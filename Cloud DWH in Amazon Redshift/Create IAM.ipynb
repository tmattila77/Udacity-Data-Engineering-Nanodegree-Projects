{
 "cells": [
  {
   "cell_type": "markdown",
   "metadata": {
    "editable": true
   },
   "source": [
    "### Import the libraries"
   ]
  },
  {
   "cell_type": "code",
   "execution_count": 1,
   "metadata": {
    "editable": true
   },
   "outputs": [],
   "source": [
    "import boto3\n",
    "import configparser\n",
    "import json"
   ]
  },
  {
   "cell_type": "markdown",
   "metadata": {
    "editable": true
   },
   "source": [
    "### Read the necessary credentials from the config file (dwh.cfg)"
   ]
  },
  {
   "cell_type": "code",
   "execution_count": 5,
   "metadata": {
    "editable": true
   },
   "outputs": [],
   "source": [
    "config = configparser.ConfigParser()\n",
    "config.read_file(open('dwh.cfg'))\n",
    "\n",
    "KEY = config.get('USER', 'KEY')\n",
    "SECRET = config.get('USER', 'SECRET')"
   ]
  },
  {
   "cell_type": "markdown",
   "metadata": {
    "editable": true
   },
   "source": [
    "### Create client to IAM role"
   ]
  },
  {
   "cell_type": "code",
   "execution_count": 6,
   "metadata": {
    "editable": true
   },
   "outputs": [],
   "source": [
    "iam = boto3.client('iam', region_name = 'us-west-2', aws_access_key_id = KEY, aws_secret_access_key = SECRET)"
   ]
  },
  {
   "cell_type": "markdown",
   "metadata": {
    "editable": true
   },
   "source": [
    "### Create the role, attach policy and get the role's ARN"
   ]
  },
  {
   "cell_type": "code",
   "execution_count": 7,
   "metadata": {
    "editable": true
   },
   "outputs": [
    {
     "name": "stdout",
     "output_type": "stream",
     "text": [
      "1.1. Creating a new IAM role\n"
     ]
    }
   ],
   "source": [
    "from botocore.exceptions import ClientError \n",
    "\n",
    "try:\n",
    "    print('1.1. Creating a new IAM role')\n",
    "    dwhRole = iam.create_role(\n",
    "    Path = '/', \n",
    "    RoleName = 'dwhRole',\n",
    "    Description = 'Allows Redshift clusters to call AWS servicies on your behalf',\n",
    "    AssumeRolePolicyDocument = json.dumps(\n",
    "    {'Statement': [{'Action': 'sts:AssumeRole',\n",
    "               'Effect': 'Allow',\n",
    "               'Principal': {'Service': 'redshift.amazonaws.com'}}],\n",
    "             'Version': '2012-10-17'})\n",
    "    )    \n",
    "    \n",
    "        \n",
    "except Exception as e:\n",
    "    print(e)"
   ]
  },
  {
   "cell_type": "code",
   "execution_count": 8,
   "metadata": {
    "editable": true
   },
   "outputs": [
    {
     "name": "stdout",
     "output_type": "stream",
     "text": [
      "1.2. Attaching policy\n",
      "1.3. Get IAM role ARN\n",
      "arn:aws:iam::788040861716:role/dwhRole\n"
     ]
    }
   ],
   "source": [
    "print('1.2. Attaching policy')\n",
    "\n",
    "iam.attach_role_policy(RoleName = 'dwhRole', \n",
    "             PolicyArn = 'arn:aws:iam::aws:policy/AmazonS3ReadOnlyAccess',\n",
    "                      )['ResponseMetadata']['HTTPStatusCode']\n",
    "\n",
    "print('1.3. Get IAM role ARN')\n",
    "roleArn = iam.get_role(RoleName = 'dwhRole')['Role']['Arn']\n",
    "\n",
    "print(roleArn)"
   ]
  },
  {
   "cell_type": "code",
   "execution_count": null,
   "metadata": {
    "editable": true
   },
   "outputs": [],
   "source": []
  }
 ],
 "metadata": {
  "kernelspec": {
   "display_name": "Python 3",
   "language": "python",
   "name": "python3"
  },
  "language_info": {
   "codemirror_mode": {
    "name": "ipython",
    "version": 3
   },
   "file_extension": ".py",
   "mimetype": "text/x-python",
   "name": "python",
   "nbconvert_exporter": "python",
   "pygments_lexer": "ipython3",
   "version": "3.6.3"
  }
 },
 "nbformat": 4,
 "nbformat_minor": 4
}
